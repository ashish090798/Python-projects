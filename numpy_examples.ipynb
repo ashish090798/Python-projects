{
 "cells": [
  {
   "cell_type": "markdown",
   "metadata": {},
   "source": [
    "# NumPy\n",
    "\n",
    "numpy is python's package for doing math that is more advanced than +-*/\n",
    "\n",
    "This includes special functions like cosine, exponential, sqrt, ...\n",
    "\n",
    "On top of this we can use numpy to generate samples from many types of random variables\n",
    "\n",
    "numpy also has a powerful data type to define vectors, matrices, and tensors\n",
    "\n",
    "With these data types numpy also allows us to do linear algebra - matrix multiplication and matrix-vector solutions"
   ]
  },
  {
   "cell_type": "code",
   "execution_count": 1,
   "metadata": {},
   "outputs": [],
   "source": [
    "# the first step of using numpy is to tell python to use it\n",
    "import numpy as np"
   ]
  },
  {
   "cell_type": "code",
   "execution_count": 2,
   "metadata": {},
   "outputs": [
    {
     "name": "stdout",
     "output_type": "stream",
     "text": [
      "-1.0\n",
      "1.1\n",
      "5.2\n"
     ]
    }
   ],
   "source": [
    "print(np.cos(np.pi))\n",
    "print(np.sqrt(1.21))\n",
    "print(np.log(np.exp(5.2)))"
   ]
  },
  {
   "cell_type": "code",
   "execution_count": 3,
   "metadata": {},
   "outputs": [
    {
     "name": "stdout",
     "output_type": "stream",
     "text": [
      "[1 2 3]\n",
      "\n",
      "[[1 2 1]\n",
      " [4 5 9]\n",
      " [1 8 9]]\n",
      "\n",
      "[[1 4 1]\n",
      " [2 5 8]\n",
      " [1 9 9]]\n"
     ]
    }
   ],
   "source": [
    "# we can create numpy arrays by converting lists\n",
    "# this is a vector\n",
    "vec = np.array([1,2,3])\n",
    "print(vec)\n",
    "# we can create matrices by converting lists of lists\n",
    "mat = np.array([[1,2,1],[4,5,9],[1,8,9]])\n",
    "print('')\n",
    "print(mat)\n",
    "print('')\n",
    "print(mat.T)"
   ]
  },
  {
   "cell_type": "code",
   "execution_count": 4,
   "metadata": {},
   "outputs": [
    {
     "name": "stdout",
     "output_type": "stream",
     "text": [
      "[ 0  1  2  3  4  5  6  7  8  9 10 11 12 13 14]\n",
      "\n",
      "[ 3  9 15]\n"
     ]
    }
   ],
   "source": [
    "# there are lots of other ways to create numpy arrays\n",
    "vec2 = np.arange(0,15)\n",
    "print(vec2)\n",
    "print('')\n",
    "vec3 = np.arange(3,21,6)\n",
    "print(vec3)\n"
   ]
  },
  {
   "cell_type": "code",
   "execution_count": 5,
   "metadata": {},
   "outputs": [
    {
     "name": "stdout",
     "output_type": "stream",
     "text": [
      "[0.         0.55555556 1.11111111 1.66666667 2.22222222 2.77777778\n",
      " 3.33333333 3.88888889 4.44444444 5.        ]\n",
      "\n",
      "[[0.         0.55555556]\n",
      " [1.11111111 1.66666667]\n",
      " [2.22222222 2.77777778]\n",
      " [3.33333333 3.88888889]\n",
      " [4.44444444 5.        ]]\n",
      "[[0.         0.55555556]\n",
      " [1.11111111 1.66666667]\n",
      " [2.22222222 2.77777778]\n",
      " [3.33333333 3.88888889]\n",
      " [4.44444444 5.        ]]\n",
      "[0.         0.55555556 1.11111111 1.66666667 2.22222222 2.77777778\n",
      " 3.33333333 3.88888889 4.44444444 5.        ]\n"
     ]
    }
   ],
   "source": [
    "\n",
    "vec4 = np.linspace(0,5,10)\n",
    "print(vec4)\n",
    "print('')\n",
    "print(vec4.reshape(5,2))\n",
    "vec4_reshaped = vec4.reshape(5,2)\n",
    "print(vec4_reshaped)\n",
    "print(vec4)"
   ]
  },
  {
   "cell_type": "code",
   "execution_count": 6,
   "metadata": {},
   "outputs": [
    {
     "name": "stdout",
     "output_type": "stream",
     "text": [
      "[[0. 0. 0.]\n",
      " [0. 0. 0.]\n",
      " [0. 0. 0.]\n",
      " [0. 0. 0.]\n",
      " [0. 0. 0.]]\n",
      "\n",
      "[[1. 1. 1. 1. 1.]\n",
      " [1. 1. 1. 1. 1.]\n",
      " [1. 1. 1. 1. 1.]]\n",
      "\n",
      "[[1. 0. 0. 0. 0.]\n",
      " [0. 1. 0. 0. 0.]\n",
      " [0. 0. 1. 0. 0.]\n",
      " [0. 0. 0. 1. 0.]\n",
      " [0. 0. 0. 0. 1.]]\n"
     ]
    }
   ],
   "source": [
    "mat2 = np.zeros([5,3])\n",
    "print(mat2)\n",
    "mat3 = np.ones((3,5))\n",
    "print('')\n",
    "print(mat3)\n",
    "mat4 = np.eye(5)\n",
    "print('')\n",
    "print(mat4)"
   ]
  },
  {
   "cell_type": "code",
   "execution_count": 7,
   "metadata": {},
   "outputs": [
    {
     "name": "stdout",
     "output_type": "stream",
     "text": [
      "[1 2 3 4 5]\n",
      "[3 4 5 6 7]\n",
      "[ 4  6  8 10 12]\n",
      "[ 3  8 15 24 35]\n",
      "[1.         0.5        0.33333333 0.25       0.2       ]\n",
      "[1.73205081 2.         2.23606798 2.44948974 2.64575131]\n"
     ]
    }
   ],
   "source": [
    "# we can +-*/ arrays together if they're the right size\n",
    "vec5 = np.arange(1,6)\n",
    "vec6 = np.arange(3,8)\n",
    "print(vec5)\n",
    "print(vec6)\n",
    "print(vec5+vec6)\n",
    "print(vec5*vec6)\n",
    "print(1/vec5)\n",
    "print(np.sqrt(vec6))"
   ]
  },
  {
   "cell_type": "code",
   "execution_count": 8,
   "metadata": {},
   "outputs": [
    {
     "name": "stdout",
     "output_type": "stream",
     "text": [
      "[[1 2 1]\n",
      " [4 5 9]\n",
      " [1 8 9]]\n",
      "\n",
      "[1 2 3]\n",
      "\n",
      "[ 8 41 44]\n"
     ]
    }
   ],
   "source": [
    "# we can do matrix multiplication\n",
    "print(mat)\n",
    "print('')\n",
    "print(vec)\n",
    "print()\n",
    "product = np.matmul(mat,vec)\n",
    "print(product)"
   ]
  },
  {
   "cell_type": "code",
   "execution_count": 9,
   "metadata": {},
   "outputs": [
    {
     "name": "stdout",
     "output_type": "stream",
     "text": [
      "[1. 2. 3.]\n",
      "\n",
      "[[ 0.5         0.18518519 -0.24074074]\n",
      " [ 0.5        -0.14814815  0.09259259]\n",
      " [-0.5         0.11111111  0.05555556]]\n"
     ]
    }
   ],
   "source": [
    "print(np.linalg.solve(mat,product))\n",
    "print('')\n",
    "print(np.linalg.inv(mat))"
   ]
  },
  {
   "cell_type": "code",
   "execution_count": 10,
   "metadata": {},
   "outputs": [
    {
     "name": "stdout",
     "output_type": "stream",
     "text": [
      "['blue' 'red' 'orange' 'purple' 'purple' 'orange' 'Red' '6']\n",
      "['6' 'Red' 'blue' 'orange' 'purple' 'red']\n"
     ]
    }
   ],
   "source": [
    "# we can find the unique values in an array\n",
    "vec7 = np.array(['blue','red','orange','purple','purple','orange','Red',6])\n",
    "print(vec7)\n",
    "print(np.unique(vec7))"
   ]
  },
  {
   "cell_type": "code",
   "execution_count": 11,
   "metadata": {},
   "outputs": [
    {
     "name": "stdout",
     "output_type": "stream",
     "text": [
      "[[0.34357276 0.83933186 0.9106926  0.42901194 0.27810175]\n",
      " [0.70710906 0.55301554 0.28371987 0.72844455 0.33440787]\n",
      " [0.21367951 0.52486993 0.10528268 0.30691726 0.71636368]\n",
      " [0.73892623 0.98073441 0.36619365 0.07792905 0.94788418]\n",
      " [0.7907561  0.12711957 0.58960828 0.13857705 0.56679238]]\n",
      "\n",
      "[[ 1.61501192  0.67638149 -1.45152933  1.22443375 -0.58017224]\n",
      " [-0.3102225   0.39205006  0.7041104  -1.551546   -0.15054843]\n",
      " [-0.95693799 -1.25349722  0.66811185 -0.97291793  1.37719293]\n",
      " [-0.72620071 -0.62131627 -0.6377851   0.40307452 -0.80265597]\n",
      " [ 0.83805556 -0.09564034 -1.11676707  0.31097421 -0.01398846]\n",
      " [-1.27707028 -1.00167669  0.41267942  0.42317926  0.43600349]\n",
      " [-1.04024216 -0.13037734 -0.26715387 -0.21315662  1.22621588]\n",
      " [-1.04543675 -1.03524176 -0.84841577  0.73263246  0.47026447]\n",
      " [-1.6920633  -0.54813675 -1.08933008 -0.05318117  0.03738953]\n",
      " [ 0.95831719 -0.17126723  0.369956    0.8755153   0.38205062]]\n"
     ]
    }
   ],
   "source": [
    "# we can also use numpy to generate samples of a random variable\n",
    "rand_mat = np.random.rand(5,5) # uniform random variable\n",
    "print(rand_mat)\n",
    "rand_mat2 = np.random.randn(10,5) # standard normal random variable\n",
    "print('')\n",
    "print(rand_mat2)"
   ]
  },
  {
   "cell_type": "code",
   "execution_count": 12,
   "metadata": {},
   "outputs": [
    {
     "name": "stdout",
     "output_type": "stream",
     "text": [
      "0.5039616710164104\n",
      "0.8368536276126699\n"
     ]
    }
   ],
   "source": [
    "# we can also use numpy for statistical tools on arrays\n",
    "print(np.mean(rand_mat))\n",
    "print(np.std(rand_mat2))"
   ]
  },
  {
   "cell_type": "code",
   "execution_count": 13,
   "metadata": {},
   "outputs": [
    {
     "name": "stdout",
     "output_type": "stream",
     "text": [
      "0.07792904646827015\n",
      "1.6150119237634875\n"
     ]
    }
   ],
   "source": [
    "print(np.min(rand_mat))\n",
    "print(np.max(rand_mat2))"
   ]
  },
  {
   "cell_type": "code",
   "execution_count": 14,
   "metadata": {},
   "outputs": [],
   "source": [
    "# break here for next video!"
   ]
  },
  {
   "cell_type": "code",
   "execution_count": 15,
   "metadata": {},
   "outputs": [
    {
     "name": "stdout",
     "output_type": "stream",
     "text": [
      "[-1.1975699   0.38760613  0.16638171  1.2730573   0.68556591 -0.23863841\n",
      " -0.20371157  0.12541606 -0.14413704 -0.71236547 -2.00169825  1.03284608\n",
      "  0.04366234  0.00506259  1.62857934  1.94779414  0.49165473  2.01997743\n",
      "  0.54891949]\n",
      "-0.20371156920676411\n"
     ]
    }
   ],
   "source": [
    "# how do we access entries in a numpy vector\n",
    "rand_vec = np.random.randn(19)\n",
    "print(rand_vec)\n",
    "print(rand_vec[6])"
   ]
  },
  {
   "cell_type": "code",
   "execution_count": 16,
   "metadata": {},
   "outputs": [
    {
     "name": "stdout",
     "output_type": "stream",
     "text": [
      "[ 0.68556591 -0.23863841 -0.20371157  0.12541606 -0.14413704]\n"
     ]
    }
   ],
   "source": [
    "# we can access multiple entries at once using :\n",
    "print(rand_vec[4:9])"
   ]
  },
  {
   "cell_type": "code",
   "execution_count": 17,
   "metadata": {},
   "outputs": [
    {
     "name": "stdout",
     "output_type": "stream",
     "text": [
      "[ 0  3  6  9 12]\n",
      "[-1.1975699   1.2730573  -0.20371157 -0.71236547  0.04366234]\n"
     ]
    }
   ],
   "source": [
    "# we can also access multiple non-consecutive entries using np.arange\n",
    "print(np.arange(0,15,3))\n",
    "print(rand_vec[np.arange(0,15,3)])"
   ]
  },
  {
   "cell_type": "code",
   "execution_count": 18,
   "metadata": {},
   "outputs": [
    {
     "name": "stdout",
     "output_type": "stream",
     "text": [
      "[[0.34357276 0.83933186 0.9106926  0.42901194 0.27810175]\n",
      " [0.70710906 0.55301554 0.28371987 0.72844455 0.33440787]\n",
      " [0.21367951 0.52486993 0.10528268 0.30691726 0.71636368]\n",
      " [0.73892623 0.98073441 0.36619365 0.07792905 0.94788418]\n",
      " [0.7907561  0.12711957 0.58960828 0.13857705 0.56679238]]\n",
      "0.28371987338811777\n",
      "0.28371987338811777\n"
     ]
    }
   ],
   "source": [
    "# what about matrices\n",
    "print(rand_mat)\n",
    "print(rand_mat[1][2])\n",
    "print(rand_mat[1,2])\n"
   ]
  },
  {
   "cell_type": "code",
   "execution_count": 19,
   "metadata": {},
   "outputs": [
    {
     "name": "stdout",
     "output_type": "stream",
     "text": [
      "[[0.83933186 0.9106926 ]\n",
      " [0.55301554 0.28371987]]\n"
     ]
    }
   ],
   "source": [
    "print(rand_mat[0:2,1:3])"
   ]
  },
  {
   "cell_type": "code",
   "execution_count": 20,
   "metadata": {},
   "outputs": [
    {
     "name": "stdout",
     "output_type": "stream",
     "text": [
      "[-1.1975699   0.38760613  0.16638171  1.2730573   0.68556591 -0.23863841\n",
      " -0.20371157  0.12541606 -0.14413704 -0.71236547 -2.00169825  1.03284608\n",
      "  0.04366234  0.00506259  1.62857934  1.94779414  0.49165473  2.01997743\n",
      "  0.54891949]\n",
      "\n",
      "[-1.1975699   0.38760613  0.16638171  4.          4.         -0.23863841\n",
      " -0.20371157  0.12541606 -0.14413704 -0.71236547 -2.00169825  1.03284608\n",
      "  0.04366234  0.00506259  1.62857934  1.94779414  0.49165473  2.01997743\n",
      "  0.54891949]\n",
      "\n",
      "[-1.1975699   0.38760613  0.16638171  1.          2.         -0.23863841\n",
      " -0.20371157  0.12541606 -0.14413704 -0.71236547 -2.00169825  1.03284608\n",
      "  0.04366234  0.00506259  1.62857934  1.94779414  0.49165473  2.01997743\n",
      "  0.54891949]\n"
     ]
    }
   ],
   "source": [
    "# let's change some values in an array!\n",
    "print(rand_vec)\n",
    "rand_vec[3:5] = 4\n",
    "print('')\n",
    "print(rand_vec)\n",
    "rand_vec[3:5] = [1,2]\n",
    "print('')\n",
    "print(rand_vec)"
   ]
  },
  {
   "cell_type": "code",
   "execution_count": 21,
   "metadata": {},
   "outputs": [
    {
     "name": "stdout",
     "output_type": "stream",
     "text": [
      "[[0.34357276 0.83933186 0.9106926  0.42901194 0.27810175]\n",
      " [0.70710906 0.55301554 0.28371987 0.72844455 0.33440787]\n",
      " [0.21367951 0.52486993 0.10528268 0.30691726 0.71636368]\n",
      " [0.73892623 0.98073441 0.36619365 0.07792905 0.94788418]\n",
      " [0.7907561  0.12711957 0.58960828 0.13857705 0.56679238]]\n",
      "\n",
      "[[0.34357276 0.83933186 0.9106926  0.42901194 0.27810175]\n",
      " [0.70710906 0.55301554 0.28371987 0.         0.        ]\n",
      " [0.21367951 0.52486993 0.10528268 0.         0.        ]\n",
      " [0.73892623 0.98073441 0.36619365 0.07792905 0.94788418]\n",
      " [0.7907561  0.12711957 0.58960828 0.13857705 0.56679238]]\n"
     ]
    }
   ],
   "source": [
    "print(rand_mat)\n",
    "rand_mat[1:3,3:5] = 0\n",
    "print('')\n",
    "print(rand_mat)"
   ]
  },
  {
   "cell_type": "code",
   "execution_count": 22,
   "metadata": {},
   "outputs": [
    {
     "name": "stdout",
     "output_type": "stream",
     "text": [
      "[[0.34357276 0.83933186 0.9106926 ]\n",
      " [0.70710906 0.55301554 0.28371987]]\n",
      "[[3. 3. 3.]\n",
      " [3. 3. 3.]]\n"
     ]
    }
   ],
   "source": [
    "sub_mat = rand_mat[0:2,0:3]\n",
    "print(sub_mat)\n",
    "sub_mat[:] = 3\n",
    "print(sub_mat)\n"
   ]
  },
  {
   "cell_type": "code",
   "execution_count": 23,
   "metadata": {},
   "outputs": [
    {
     "name": "stdout",
     "output_type": "stream",
     "text": [
      "[[3.         3.         3.         0.42901194 0.27810175]\n",
      " [3.         3.         3.         0.         0.        ]\n",
      " [0.21367951 0.52486993 0.10528268 0.         0.        ]\n",
      " [0.73892623 0.98073441 0.36619365 0.07792905 0.94788418]\n",
      " [0.7907561  0.12711957 0.58960828 0.13857705 0.56679238]]\n"
     ]
    }
   ],
   "source": [
    "print(rand_mat)"
   ]
  },
  {
   "cell_type": "code",
   "execution_count": 24,
   "metadata": {},
   "outputs": [
    {
     "name": "stdout",
     "output_type": "stream",
     "text": [
      "[[99. 99. 99.]\n",
      " [99. 99. 99.]]\n",
      "[[3.         3.         3.         0.42901194 0.27810175]\n",
      " [3.         3.         3.         0.         0.        ]\n",
      " [0.21367951 0.52486993 0.10528268 0.         0.        ]\n",
      " [0.73892623 0.98073441 0.36619365 0.07792905 0.94788418]\n",
      " [0.7907561  0.12711957 0.58960828 0.13857705 0.56679238]]\n"
     ]
    }
   ],
   "source": [
    "sub_mat2 = rand_mat[0:2,0:3].copy()\n",
    "sub_mat2[:] = 99\n",
    "print(sub_mat2)\n",
    "print(rand_mat)\n"
   ]
  },
  {
   "cell_type": "code",
   "execution_count": 25,
   "metadata": {},
   "outputs": [],
   "source": [
    "# break here for next video"
   ]
  },
  {
   "cell_type": "code",
   "execution_count": 26,
   "metadata": {},
   "outputs": [
    {
     "name": "stdout",
     "output_type": "stream",
     "text": [
      "[-1.26771597 -0.55029898  0.14112416 -0.85800593 -0.35434379 -2.02477332\n",
      " -0.97748171  0.80090271  1.03652608  0.98248694 -1.34026317 -0.89831649\n",
      "  0.42889636 -0.35940802 -0.15459562]\n",
      "[False False  True False False False False  True  True  True False False\n",
      "  True False False]\n",
      "[0.14112416 0.80090271 1.03652608 0.98248694 0.42889636]\n"
     ]
    }
   ],
   "source": [
    "# we can also access entries with logicals\n",
    "rand_vec = np.random.randn(15)\n",
    "\n",
    "print(rand_vec)\n",
    "print(rand_vec>0)\n",
    "print(rand_vec[rand_vec>0])"
   ]
  },
  {
   "cell_type": "code",
   "execution_count": 27,
   "metadata": {},
   "outputs": [
    {
     "name": "stdout",
     "output_type": "stream",
     "text": [
      "[[ 1.61501192  0.67638149 -1.45152933  1.22443375 -0.58017224]\n",
      " [-0.3102225   0.39205006  0.7041104  -1.551546   -0.15054843]\n",
      " [-0.95693799 -1.25349722  0.66811185 -0.97291793  1.37719293]\n",
      " [-0.72620071 -0.62131627 -0.6377851   0.40307452 -0.80265597]\n",
      " [ 0.83805556 -0.09564034 -1.11676707  0.31097421 -0.01398846]\n",
      " [-1.27707028 -1.00167669  0.41267942  0.42317926  0.43600349]\n",
      " [-1.04024216 -0.13037734 -0.26715387 -0.21315662  1.22621588]\n",
      " [-1.04543675 -1.03524176 -0.84841577  0.73263246  0.47026447]\n",
      " [-1.6920633  -0.54813675 -1.08933008 -0.05318117  0.03738953]\n",
      " [ 0.95831719 -0.17126723  0.369956    0.8755153   0.38205062]]\n",
      "[1.61501192 0.67638149 1.22443375 0.39205006 0.7041104  0.66811185\n",
      " 1.37719293 0.40307452 0.83805556 0.31097421 0.41267942 0.42317926\n",
      " 0.43600349 1.22621588 0.73263246 0.47026447 0.03738953 0.95831719\n",
      " 0.369956   0.8755153  0.38205062]\n"
     ]
    }
   ],
   "source": [
    "print(rand_mat2)\n",
    "print(rand_mat2[rand_mat2>0])"
   ]
  },
  {
   "cell_type": "code",
   "execution_count": 28,
   "metadata": {},
   "outputs": [
    {
     "name": "stdout",
     "output_type": "stream",
     "text": [
      "[-1.26771597 -0.55029898  0.14112416 -0.85800593 -0.35434379 -2.02477332\n",
      " -0.97748171  0.80090271  1.03652608  0.98248694 -1.34026317 -0.89831649\n",
      "  0.42889636 -0.35940802 -0.15459562]\n",
      "\n",
      "[-1.26771597 -0.55029898  0.14112416 -0.85800593 -0.35434379 -2.02477332\n",
      " -0.97748171 -5.         -5.         -5.         -1.34026317 -0.89831649\n",
      "  0.42889636 -0.35940802 -0.15459562]\n"
     ]
    }
   ],
   "source": [
    "\n",
    "print(rand_vec)\n",
    "print('')\n",
    "rand_vec[rand_vec>0.5] = -5\n",
    "print(rand_vec)"
   ]
  },
  {
   "cell_type": "code",
   "execution_count": 29,
   "metadata": {},
   "outputs": [],
   "source": [
    "# let's save some arrays on the disk for use later!\n",
    "np.save('saved_file_name',rand_mat2)\n"
   ]
  },
  {
   "cell_type": "code",
   "execution_count": 30,
   "metadata": {},
   "outputs": [],
   "source": [
    "np.savez('zipped_file_name',rand_mat=rand_mat,rand_mat2=rand_mat2)"
   ]
  },
  {
   "cell_type": "code",
   "execution_count": 31,
   "metadata": {},
   "outputs": [
    {
     "name": "stdout",
     "output_type": "stream",
     "text": [
      "[[ 1.61501192  0.67638149 -1.45152933  1.22443375 -0.58017224]\n",
      " [-0.3102225   0.39205006  0.7041104  -1.551546   -0.15054843]\n",
      " [-0.95693799 -1.25349722  0.66811185 -0.97291793  1.37719293]\n",
      " [-0.72620071 -0.62131627 -0.6377851   0.40307452 -0.80265597]\n",
      " [ 0.83805556 -0.09564034 -1.11676707  0.31097421 -0.01398846]\n",
      " [-1.27707028 -1.00167669  0.41267942  0.42317926  0.43600349]\n",
      " [-1.04024216 -0.13037734 -0.26715387 -0.21315662  1.22621588]\n",
      " [-1.04543675 -1.03524176 -0.84841577  0.73263246  0.47026447]\n",
      " [-1.6920633  -0.54813675 -1.08933008 -0.05318117  0.03738953]\n",
      " [ 0.95831719 -0.17126723  0.369956    0.8755153   0.38205062]]\n",
      "\n",
      "<numpy.lib.npyio.NpzFile object at 0x000001CC8F825E50>\n"
     ]
    }
   ],
   "source": [
    "# now let's load it\n",
    "loaded_vec = np.load('saved_file_name.npy')\n",
    "loaded_zip = np.load('zipped_file_name.npz')\n",
    "\n",
    "print(loaded_vec)\n",
    "print('')\n",
    "print(loaded_zip)"
   ]
  },
  {
   "cell_type": "code",
   "execution_count": 32,
   "metadata": {},
   "outputs": [
    {
     "name": "stdout",
     "output_type": "stream",
     "text": [
      "[[3.         3.         3.         0.42901194 0.27810175]\n",
      " [3.         3.         3.         0.         0.        ]\n",
      " [0.21367951 0.52486993 0.10528268 0.         0.        ]\n",
      " [0.73892623 0.98073441 0.36619365 0.07792905 0.94788418]\n",
      " [0.7907561  0.12711957 0.58960828 0.13857705 0.56679238]]\n",
      "\n",
      "[[ 1.61501192  0.67638149 -1.45152933  1.22443375 -0.58017224]\n",
      " [-0.3102225   0.39205006  0.7041104  -1.551546   -0.15054843]\n",
      " [-0.95693799 -1.25349722  0.66811185 -0.97291793  1.37719293]\n",
      " [-0.72620071 -0.62131627 -0.6377851   0.40307452 -0.80265597]\n",
      " [ 0.83805556 -0.09564034 -1.11676707  0.31097421 -0.01398846]\n",
      " [-1.27707028 -1.00167669  0.41267942  0.42317926  0.43600349]\n",
      " [-1.04024216 -0.13037734 -0.26715387 -0.21315662  1.22621588]\n",
      " [-1.04543675 -1.03524176 -0.84841577  0.73263246  0.47026447]\n",
      " [-1.6920633  -0.54813675 -1.08933008 -0.05318117  0.03738953]\n",
      " [ 0.95831719 -0.17126723  0.369956    0.8755153   0.38205062]]\n",
      "[[3.         3.         3.         0.42901194 0.27810175]\n",
      " [3.         3.         3.         0.         0.        ]\n",
      " [0.21367951 0.52486993 0.10528268 0.         0.        ]\n",
      " [0.73892623 0.98073441 0.36619365 0.07792905 0.94788418]\n",
      " [0.7907561  0.12711957 0.58960828 0.13857705 0.56679238]]\n"
     ]
    }
   ],
   "source": [
    "print(loaded_zip['rand_mat'])\n",
    "print('')\n",
    "print(loaded_zip['rand_mat2'])\n",
    "\n",
    "new_array  = loaded_zip['rand_mat']\n",
    "print(new_array)"
   ]
  },
  {
   "cell_type": "code",
   "execution_count": 33,
   "metadata": {},
   "outputs": [
    {
     "name": "stdout",
     "output_type": "stream",
     "text": [
      "[[3.         3.         3.         0.42901194 0.27810175]\n",
      " [3.         3.         3.         0.         0.        ]\n",
      " [0.21367951 0.52486993 0.10528268 0.         0.        ]\n",
      " [0.73892623 0.98073441 0.36619365 0.07792905 0.94788418]\n",
      " [0.7907561  0.12711957 0.58960828 0.13857705 0.56679238]]\n",
      "\n",
      "[[3.         3.         3.         0.42901194 0.27810175]\n",
      " [3.         3.         3.         0.         0.        ]\n",
      " [0.21367951 0.52486993 0.10528268 0.         0.        ]\n",
      " [0.73892623 0.98073441 0.36619365 0.07792905 0.94788418]\n",
      " [0.7907561  0.12711957 0.58960828 0.13857705 0.56679238]]\n"
     ]
    }
   ],
   "source": [
    "# we can also save/load as text files...but only single variables\n",
    "np.savetxt('text_file_name.txt',rand_mat,delimiter=',')\n",
    "rand_mat_txt = np.loadtxt('text_file_name.txt',delimiter=',')\n",
    "print(rand_mat)\n",
    "print('')\n",
    "print(rand_mat_txt)"
   ]
  },
  {
   "cell_type": "code",
   "execution_count": null,
   "metadata": {},
   "outputs": [],
   "source": []
  }
 ],
 "metadata": {
  "kernelspec": {
   "display_name": "Python 3 (ipykernel)",
   "language": "python",
   "name": "python3"
  },
  "language_info": {
   "codemirror_mode": {
    "name": "ipython",
    "version": 3
   },
   "file_extension": ".py",
   "mimetype": "text/x-python",
   "name": "python",
   "nbconvert_exporter": "python",
   "pygments_lexer": "ipython3",
   "version": "3.9.12"
  }
 },
 "nbformat": 4,
 "nbformat_minor": 2
}
